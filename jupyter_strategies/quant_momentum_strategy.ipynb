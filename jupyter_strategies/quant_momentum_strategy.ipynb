{
 "cells": [
  {
   "cell_type": "markdown",
   "id": "42d6b772-bc13-4baf-b2f0-cc5362466336",
   "metadata": {},
   "source": [
    "## Library Imports"
   ]
  },
  {
   "cell_type": "code",
   "execution_count": null,
   "id": "59fb6990-6bb6-4718-9754-362cfeaaef9a",
   "metadata": {},
   "outputs": [],
   "source": [
    "import numpy as np\n",
    "import pandas as pd\n",
    "import yfinance as yf\n",
    "import matplotlib.pyplot as plt\n",
    "from statistics import mean\n",
    "from scipy import stats\n",
    "import math\n",
    "import xlsxwriter"
   ]
  },
  {
   "cell_type": "markdown",
   "id": "8c6c38d0-73fc-4947-a11a-792eeaf79c58",
   "metadata": {},
   "source": [
    "## Import Stocks"
   ]
  },
  {
   "cell_type": "code",
   "execution_count": null,
   "id": "506b8c77-82a6-4f4e-9c00-b2874cd48106",
   "metadata": {},
   "outputs": [],
   "source": [
    "symbols = pd.read_csv('sp500_symbols.csv', skiprows=1, header=None)[0].tolist()"
   ]
  },
  {
   "cell_type": "markdown",
   "id": "30a4e5ff-6626-4435-a7be-12fa97343300",
   "metadata": {},
   "source": [
    "## Executing A Batch API Call & Building Our DataFrame"
   ]
  },
  {
   "cell_type": "code",
   "execution_count": null,
   "id": "e786845b-7f9d-4011-883f-cc4a54b7c45e",
   "metadata": {
    "scrolled": true
   },
   "outputs": [],
   "source": [
    "def chunks(lst, n):\n",
    "    \"\"\"Yield successive n-sized chunks from lst.\"\"\"\n",
    "    for i in range(0, len(lst), n):\n",
    "        yield lst[i:i + n]\n",
    "\n",
    "symbol_groups = list(chunks(symbols, 100))\n",
    "symbol_strings = [' '.join(group) for group in symbol_groups]\n",
    "\n",
    "# Define columns for the DataFrame\n",
    "hqm_columns = [\n",
    "    'Ticker',\n",
    "    'Price',\n",
    "    'Number of Shares to Buy',\n",
    "    'One-Year Price Return',\n",
    "    'One-Year Return Percentile',\n",
    "    'Six-Month Price Return',\n",
    "    'Six-Month Return Percentile',\n",
    "    'Three-Month Price Return',\n",
    "    'Three-Month Return Percentile',\n",
    "    'One-Month Price Return',\n",
    "    'One-Month Return Percentile',\n",
    "    'HQM Score'\n",
    "]\n",
    "\n",
    "hqm_dataframe = pd.DataFrame(columns=hqm_columns)\n",
    "\n",
    "for symbol_string in symbol_strings:\n",
    "    try:\n",
    "        data = yf.download(symbol_string.split(), period=\"1y\")['Adj Close']\n",
    "        temp_dataframe = pd.DataFrame(columns=hqm_columns)\n",
    "        for symbol in data.columns:\n",
    "            if data[symbol].dropna().empty:\n",
    "                print(f\"No data found for {symbol}. Skipping...\")\n",
    "                continue\n",
    "            one_year_return = (data[symbol].iloc[-1] / data[symbol].iloc[0]) - 1\n",
    "            six_month_return = (data[symbol].iloc[-1] / data[symbol].iloc[-126]) - 1\n",
    "            three_month_return = (data[symbol].iloc[-1] / data[symbol].iloc[-63]) - 1\n",
    "            one_month_return = (data[symbol].iloc[-1] / data[symbol].iloc[-21]) - 1\n",
    "            temp_dataframe = pd.concat([temp_dataframe, pd.DataFrame([{\n",
    "                'Ticker': symbol,\n",
    "                'Price': data[symbol].iloc[-1],\n",
    "                'Number of Shares to Buy': 0,\n",
    "                'One-Year Price Return': one_year_return,\n",
    "                'One-Year Return Percentile': 0,\n",
    "                'Six-Month Price Return': six_month_return,\n",
    "                'Six-Month Return Percentile': 0,\n",
    "                'Three-Month Price Return': three_month_return,\n",
    "                'Three-Month Return Percentile': 0,\n",
    "                'One-Month Price Return': one_month_return,\n",
    "                'One-Month Return Percentile': 0,\n",
    "                'HQM Score': 0\n",
    "            }])], ignore_index=True)\n",
    "        if not temp_dataframe.empty:\n",
    "            hqm_dataframe = pd.concat([hqm_dataframe, temp_dataframe], ignore_index=True)\n",
    "    except Exception as e:\n",
    "        print(f\"Failed download for {symbol_string}: {e}\")\n",
    "\n",
    "print(hqm_dataframe)"
   ]
  },
  {
   "cell_type": "markdown",
   "id": "0de973d6-245d-471f-ac58-8a5501099697",
   "metadata": {},
   "source": [
    "## Calculating Momentum Percentiles"
   ]
  },
  {
   "cell_type": "code",
   "execution_count": null,
   "id": "0ae1f2ac-a4b1-4982-877d-2f76e001dc9a",
   "metadata": {
    "scrolled": true
   },
   "outputs": [],
   "source": [
    "time_periods = [\n",
    "    'One-Year',\n",
    "    'Six-Month',\n",
    "    'Three-Month',\n",
    "    'One-Month'\n",
    "]\n",
    "\n",
    "hqm_dataframe.dropna(subset=[f'{time_period} Price Return' for time_period in time_periods], inplace=True)\n",
    "\n",
    "for row in hqm_dataframe.index:\n",
    "    for time_period in time_periods:\n",
    "        hqm_dataframe.loc[row, f'{time_period} Return Percentile'] = stats.percentileofscore(\n",
    "            hqm_dataframe[f'{time_period} Price Return'].dropna(),\n",
    "            hqm_dataframe.loc[row, f'{time_period} Price Return']\n",
    "        )\n",
    "\n",
    "print(hqm_dataframe)"
   ]
  },
  {
   "cell_type": "markdown",
   "id": "294b5613-a9e9-40b2-8821-11610e4e764a",
   "metadata": {},
   "source": [
    "## Calculating the HQM Score"
   ]
  },
  {
   "cell_type": "code",
   "execution_count": null,
   "id": "aa7d4d93-256e-453b-a5fd-4a86a9db017f",
   "metadata": {
    "scrolled": true
   },
   "outputs": [],
   "source": [
    "for row in hqm_dataframe.index:\n",
    "    momentum_percentiles = [hqm_dataframe.loc[row, f'{time_period} Return Percentile'] for time_period in time_periods]\n",
    "    hqm_dataframe.loc[row, 'HQM Score'] = mean(momentum_percentiles)\n",
    "\n",
    "print(hqm_dataframe)"
   ]
  },
  {
   "cell_type": "markdown",
   "id": "f427f8b3-1b10-405b-a898-ca63f6cfd49b",
   "metadata": {},
   "source": [
    "## Removing Low-Momentum Stocks"
   ]
  },
  {
   "cell_type": "code",
   "execution_count": null,
   "id": "a3ab8c78-84c1-4ba4-9631-37ac5dc49a38",
   "metadata": {},
   "outputs": [],
   "source": [
    "hqm_dataframe.sort_values(by='HQM Score', ascending=False, inplace=True)\n",
    "hqm_dataframe = hqm_dataframe[:50]\n",
    "hqm_dataframe.reset_index(drop=True, inplace=True)\n",
    "print(hqm_dataframe)"
   ]
  },
  {
   "cell_type": "markdown",
   "id": "89e7807f-bccb-4773-9112-99858002390e",
   "metadata": {},
   "source": [
    "## Calculating the Number of Shares to Buy"
   ]
  },
  {
   "cell_type": "code",
   "execution_count": null,
   "id": "9680947f-2fba-4d99-a6cc-450030672339",
   "metadata": {},
   "outputs": [],
   "source": [
    "def portfolio_input():\n",
    "    global portfolio_size\n",
    "    portfolio_size = input(\"Enter the value of your portfolio:\")\n",
    "\n",
    "    try:\n",
    "        val = float(portfolio_size)\n",
    "    except ValueError:\n",
    "        print(\"That's not a number! \\n Try again:\")\n",
    "        portfolio_size = input(\"Enter the value of your portfolio:\")\n",
    "\n",
    "portfolio_input()\n",
    "print(portfolio_size)\n",
    "\n",
    "position_size = float(portfolio_size) / len(hqm_dataframe.index)\n",
    "for i in range(0, len(hqm_dataframe['Ticker'])):\n",
    "    hqm_dataframe.loc[i, 'Number of Shares to Buy'] = math.floor(position_size / hqm_dataframe['Price'][i])\n",
    "\n",
    "# Remove stocks not bought\n",
    "hqm_dataframe = hqm_dataframe[hqm_dataframe['Number of Shares to Buy'] > 0]\n",
    "\n",
    "print(hqm_dataframe)"
   ]
  },
  {
   "cell_type": "markdown",
   "id": "b60f4fe5-0415-4acb-af22-2e8e2f131a5a",
   "metadata": {},
   "source": [
    "## Data Visualisation"
   ]
  },
  {
   "cell_type": "code",
   "execution_count": null,
   "id": "0c8530d1-8b85-4377-988e-196d0eaec8cc",
   "metadata": {},
   "outputs": [],
   "source": [
    "# Plot HQM Scores\n",
    "plt.figure(figsize=(12, 8))\n",
    "plt.bar(hqm_dataframe['Ticker'], hqm_dataframe['HQM Score'], color='blue')\n",
    "plt.xlabel('Ticker')\n",
    "plt.ylabel('HQM Score')\n",
    "plt.title('HQM Score for Top 50 Momentum Stocks')\n",
    "plt.xticks(rotation=90)\n",
    "plt.show()\n",
    "\n",
    "# Plot Price Returns\n",
    "fig, axs = plt.subplots(2, 2, figsize=(14, 10))\n",
    "\n",
    "axs[0, 0].bar(hqm_dataframe['Ticker'], hqm_dataframe['One-Year Price Return'], color='green')\n",
    "axs[0, 0].set_title('One-Year Price Return')\n",
    "axs[0, 0].tick_params(axis='x', rotation=90)\n",
    "\n",
    "axs[0, 1].bar(hqm_dataframe['Ticker'], hqm_dataframe['Six-Month Price Return'], color='red')\n",
    "axs[0, 1].set_title('Six-Month Price Return')\n",
    "axs[0, 1].tick_params(axis='x', rotation=90)\n",
    "\n",
    "axs[1, 0].bar(hqm_dataframe['Ticker'], hqm_dataframe['Three-Month Price Return'], color='purple')\n",
    "axs[1, 0].set_title('Three-Month Price Return')\n",
    "axs[1, 0].tick_params(axis='x', rotation=90)\n",
    "\n",
    "axs[1, 1].bar(hqm_dataframe['Ticker'], hqm_dataframe['One-Month Price Return'], color='orange')\n",
    "axs[1, 1].set_title('One-Month Price Return')\n",
    "axs[1, 1].tick_params(axis='x', rotation=90)\n",
    "\n",
    "for ax in axs.flat:\n",
    "    ax.set(xlabel='Ticker', ylabel='Price Return')\n",
    "\n",
    "fig.tight_layout()\n",
    "plt.show()"
   ]
  },
  {
   "cell_type": "markdown",
   "id": "2f15cd7f-8d61-4c18-b9e1-b1a08f54076d",
   "metadata": {},
   "source": [
    "## Formatting Our Excel Output"
   ]
  },
  {
   "cell_type": "code",
   "execution_count": null,
   "id": "cd4b56b4-e337-4a23-9d60-cf522dffaa08",
   "metadata": {},
   "outputs": [],
   "source": [
    "writer = pd.ExcelWriter('momentum_strategy.xlsx', engine='xlsxwriter')\n",
    "hqm_dataframe.to_excel(writer, sheet_name='Momentum Strategy', index=False)\n",
    "\n",
    "string_template = writer.book.add_format(\n",
    "    {'font_color': '#000000', 'bg_color': '#ffffff', 'border': 1}\n",
    ")\n",
    "\n",
    "dollar_template = writer.book.add_format(\n",
    "    {'num_format': '$0.00', 'font_color': '#000000', 'bg_color': '#ffffff', 'border': 1}\n",
    ")\n",
    "\n",
    "integer_template = writer.book.add_format(\n",
    "    {'num_format': '0', 'font_color': '#000000', 'bg_color': '#ffffff', 'border': 1}\n",
    ")\n",
    "\n",
    "percent_template = writer.book.add_format(\n",
    "    {'num_format': '0.0%', 'font_color': '#000000', 'bg_color': '#ffffff', 'border': 1}\n",
    ")\n",
    "\n",
    "float_template = writer.book.add_format(\n",
    "    {'num_format': '0.00', 'font_color': '#000000', 'bg_color': '#ffffff', 'border': 1}\n",
    ")\n",
    "\n",
    "column_formats = {\n",
    "    'A': ['Ticker', string_template],\n",
    "    'B': ['Price', dollar_template],\n",
    "    'C': ['Number of Shares to Buy', integer_template],\n",
    "    'D': ['One-Year Price Return', percent_template],\n",
    "    'E': ['One-Year Return Percentile', percent_template],\n",
    "    'F': ['Six-Month Price Return', percent_template],\n",
    "    'G': ['Six-Month Return Percentile', percent_template],\n",
    "    'H': ['Three-Month Price Return', percent_template],\n",
    "    'I': ['Three-Month Return Percentile', percent_template],\n",
    "    'J': ['One-Month Price Return', percent_template],\n",
    "    'K': ['One-Month Return Percentile', percent_template],\n",
    "    'L': ['HQM Score', float_template]\n",
    "}\n",
    "\n",
    "for column in column_formats.keys():\n",
    "    writer.sheets['Momentum Strategy'].set_column(f'{column}:{column}', 20, column_formats[column][1])\n",
    "    writer.sheets['Momentum Strategy'].write(f'{column}1', column_formats[column][0], string_template)\n",
    "\n",
    "writer.close()"
   ]
  }
 ],
 "metadata": {
  "kernelspec": {
   "display_name": "Python 3 (ipykernel)",
   "language": "python",
   "name": "python3"
  },
  "language_info": {
   "codemirror_mode": {
    "name": "ipython",
    "version": 3
   },
   "file_extension": ".py",
   "mimetype": "text/x-python",
   "name": "python",
   "nbconvert_exporter": "python",
   "pygments_lexer": "ipython3",
   "version": "3.11.5"
  }
 },
 "nbformat": 4,
 "nbformat_minor": 5
}
