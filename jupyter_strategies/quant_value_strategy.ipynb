{
 "cells": [
  {
   "cell_type": "markdown",
   "id": "68931fa5-d910-4b05-a3e8-03c210b9a458",
   "metadata": {},
   "source": [
    "## Library Imports"
   ]
  },
  {
   "cell_type": "code",
   "execution_count": null,
   "id": "a4b79800-634a-4e67-aa9e-f4b3cc788dc6",
   "metadata": {},
   "outputs": [],
   "source": [
    "import numpy as np\n",
    "import pandas as pd\n",
    "import yfinance as yf\n",
    "from scipy import stats\n",
    "from statistics import mean\n",
    "from concurrent.futures import ThreadPoolExecutor, as_completed\n",
    "import xlsxwriter\n",
    "import math\n",
    "import requests"
   ]
  },
  {
   "cell_type": "markdown",
   "id": "f194d73c-0288-493b-a5fd-b1ad739e93ce",
   "metadata": {},
   "source": [
    "## Import Stocks"
   ]
  },
  {
   "cell_type": "code",
   "execution_count": null,
   "id": "55b9d2d7-088c-4221-947b-8d2c2740a384",
   "metadata": {},
   "outputs": [],
   "source": [
    "symbols = pd.read_csv('../data/sp500_symbols.csv')\n",
    "if 'Symbol' in symbols.columns:\n",
    "    symbols.rename(columns={'Symbol': 'Ticker'}, inplace=True)"
   ]
  },
  {
   "cell_type": "markdown",
   "id": "28c6cc71-a55a-47bd-96cf-0825d958a3c6",
   "metadata": {},
   "source": [
    "## Making API Calls and Building the DataFrame"
   ]
  },
  {
   "cell_type": "code",
   "execution_count": null,
   "id": "fce30977-f427-4a4b-a469-4e5385ee9568",
   "metadata": {},
   "outputs": [],
   "source": [
    "def get_financial_data(ticker):\n",
    "    stock = yf.Ticker(ticker)\n",
    "    data = stock.info\n",
    "    \n",
    "    current_price = data.get('currentPrice')\n",
    "    pe_ratio = data.get('forwardPE')\n",
    "    pb_ratio = data.get('priceToBook')\n",
    "    ps_ratio = data.get('priceToSalesTrailing12Months')\n",
    "    ev = data.get('enterpriseValue')\n",
    "    ebitda = data.get('ebitda')\n",
    "    # Using gross margin and total revenue as alternative to gross profit as it is not available\n",
    "    gross_margin = data.get('grossMargins')\n",
    "    total_revenue = data.get('totalRevenue')\n",
    "    \n",
    "    if gross_margin is not None and total_revenue is not None:\n",
    "        gross_profit = gross_margin * total_revenue\n",
    "    else:\n",
    "        gross_profit = np.nan\n",
    "    \n",
    "    ev_ebitda = ev / ebitda if ev and ebitda else np.nan\n",
    "    ev_gp = ev / gross_profit if ev and gross_profit else np.nan\n",
    "    \n",
    "    return {\n",
    "        'Ticker': ticker,\n",
    "        'Price': current_price,\n",
    "        'PE Ratio': pe_ratio,\n",
    "        'PB Ratio': pb_ratio,\n",
    "        'PS Ratio': ps_ratio,\n",
    "        'EV/EBITDA': ev_ebitda,\n",
    "        'EV/GP': ev_gp\n",
    "    }\n",
    "\n",
    "# Function to fetch data concurrently\n",
    "def fetch_data_concurrently(tickers):\n",
    "    financial_data = []\n",
    "    with ThreadPoolExecutor(max_workers=10) as executor:\n",
    "        future_to_ticker = {executor.submit(get_financial_data, ticker): ticker for ticker in tickers}\n",
    "        for future in as_completed(future_to_ticker):\n",
    "            ticker = future_to_ticker[future]\n",
    "            try:\n",
    "                data = future.result()\n",
    "                financial_data.append(data)\n",
    "            except Exception as e:\n",
    "                print(f\"Could not get data for {ticker}: {e}\")\n",
    "    return financial_data\n",
    "\n",
    "tickers = symbols['Ticker']\n",
    "financial_data = fetch_data_concurrently(tickers)\n",
    "financial_df = pd.DataFrame(financial_data) # Create DataFrame\n",
    "\n",
    "# Remove rows with all information missing\n",
    "financial_df.dropna(subset=['Price', 'PE Ratio', 'PB Ratio', 'PS Ratio', 'EV/EBITDA', 'EV/GP'], how='all', inplace=True)\n",
    "\n",
    "print(financial_df)"
   ]
  },
  {
   "cell_type": "markdown",
   "id": "096a89c2-e177-4e3e-934a-bb757b38659e",
   "metadata": {},
   "source": [
    "## Handling Missing Data"
   ]
  },
  {
   "cell_type": "code",
   "execution_count": null,
   "id": "f9113afe-8cbf-4e2c-99f7-002ba92d4e51",
   "metadata": {},
   "outputs": [],
   "source": [
    "for column in ['PE Ratio', 'PB Ratio', 'PS Ratio', 'EV/EBITDA', 'EV/GP']:\n",
    "    if column in financial_df.columns:\n",
    "        financial_df[column] = financial_df[column].fillna(financial_df[column].mean())\n",
    "        financial_df[column] = financial_df[column].infer_objects(copy=False)\n",
    "\n",
    "ev_gp_mean = financial_df['EV/GP'].mean()\n",
    "financial_df['EV/GP'] = financial_df['EV/GP'].fillna(ev_gp_mean)\n",
    "\n",
    "financial_df"
   ]
  },
  {
   "cell_type": "markdown",
   "id": "b4cd5b74-c5de-49cd-9383-d587b32de7c7",
   "metadata": {},
   "source": [
    "## Calculating Value Percentiles"
   ]
  },
  {
   "cell_type": "code",
   "execution_count": null,
   "id": "2503f73a-adc1-4b96-b0e5-d4311027330c",
   "metadata": {},
   "outputs": [],
   "source": [
    "metrics = {\n",
    "    'PE Ratio': 'PE Percentile',\n",
    "    'PB Ratio': 'PB Percentile',\n",
    "    'PS Ratio': 'PS Percentile',\n",
    "    'EV/EBITDA': 'EV/EBITDA Percentile',\n",
    "    'EV/GP': 'EV/GP Percentile'\n",
    "}\n",
    "\n",
    "for metric in metrics.keys():\n",
    "    financial_df[metrics[metric]] = financial_df[metric].rank(pct=True)"
   ]
  },
  {
   "cell_type": "markdown",
   "id": "e6163b9f-5348-4f19-a5bd-de4a0100fae3",
   "metadata": {},
   "source": [
    "## Calculating the RV Score"
   ]
  },
  {
   "cell_type": "code",
   "execution_count": null,
   "id": "551118c5-3c90-4ae5-94f3-5baa1310dd75",
   "metadata": {},
   "outputs": [],
   "source": [
    "for index, row in financial_df.iterrows():\n",
    "    value_percentiles = [\n",
    "        row['PE Percentile'],\n",
    "        row['PB Percentile'],\n",
    "        row['PS Percentile'],\n",
    "        row['EV/EBITDA Percentile'],\n",
    "        row['EV/GP Percentile']\n",
    "    ]\n",
    "    financial_df.at[index, 'RV Score'] = mean(value_percentiles)\n",
    "\n",
    "financial_df"
   ]
  },
  {
   "cell_type": "markdown",
   "id": "c4984bee-c22f-4508-90bf-d7a8a5ff9b15",
   "metadata": {},
   "source": [
    "## Selecting the 50 Best Stocks"
   ]
  },
  {
   "cell_type": "code",
   "execution_count": null,
   "id": "2800dc32-9d35-433b-9bce-3b54af835dd4",
   "metadata": {},
   "outputs": [],
   "source": [
    "financial_df.sort_values(by='RV Score', inplace=True)\n",
    "top_50_stocks = financial_df.head(50).reset_index(drop=True)\n",
    "\n",
    "top_50_stocks"
   ]
  },
  {
   "cell_type": "markdown",
   "id": "d1746426-c8f6-4ca1-b3a3-e6d0996f1c29",
   "metadata": {},
   "source": [
    "## Calculating the Number of Shares to Buy"
   ]
  },
  {
   "cell_type": "code",
   "execution_count": null,
   "id": "eab41365-00ca-4ec7-98d8-c1e8b2a7c6c5",
   "metadata": {},
   "outputs": [],
   "source": [
    "def portfolio_input():\n",
    "    global portfolio_size\n",
    "    portfolio_size = input(\"Enter the value of your portfolio:\")\n",
    "    try:\n",
    "        portfolio_size = float(portfolio_size)\n",
    "    except ValueError:\n",
    "        print(\"That's not a number! \\nTry again:\")\n",
    "        portfolio_input()\n",
    "\n",
    "portfolio_input()\n",
    "position_size = portfolio_size / len(top_50_stocks.index)\n",
    "\n",
    "for i in range(len(top_50_stocks)):\n",
    "    top_50_stocks.at[i, 'Number of Shares to Buy'] = math.floor(position_size / top_50_stocks.at[i, 'Price'])\n",
    "\n",
    "ordered_columns = [\n",
    "    'Ticker', 'Price', 'Number of Shares to Buy', 'PE Ratio', 'PE Percentile', \n",
    "    'PB Ratio', 'PB Percentile', 'PS Ratio', 'PS Percentile', 'EV/EBITDA', \n",
    "    'EV/EBITDA Percentile', 'EV/GP', 'EV/GP Percentile', 'RV Score'\n",
    "]\n",
    "top_50_stocks = top_50_stocks[ordered_columns]\n",
    "\n",
    "top_50_stocks"
   ]
  },
  {
   "cell_type": "markdown",
   "id": "4d06b752-0873-40c4-8026-e977ebb27886",
   "metadata": {},
   "source": [
    "## Formatting Excel Output"
   ]
  },
  {
   "cell_type": "code",
   "execution_count": null,
   "id": "44aa7812-915c-47dd-98be-d384e3754518",
   "metadata": {},
   "outputs": [],
   "source": [
    "writer = pd.ExcelWriter('value_strategy.xlsx', engine='xlsxwriter')\n",
    "top_50_stocks.to_excel(writer, sheet_name='Value Strategy', index=False)\n",
    "\n",
    "workbook = writer.book\n",
    "worksheet = writer.sheets['Value Strategy']\n",
    "\n",
    "background_color = '#ffffff'\n",
    "font_color = '#000000'\n",
    "\n",
    "string_template = workbook.add_format(\n",
    "    {\n",
    "        'font_color': font_color,\n",
    "        'bg_color': background_color,\n",
    "        'border': 1\n",
    "    }\n",
    ")\n",
    "\n",
    "dollar_template = workbook.add_format(\n",
    "    {\n",
    "        'num_format': '$0.00',\n",
    "        'font_color': font_color,\n",
    "        'bg_color': background_color,\n",
    "        'border': 1\n",
    "    }\n",
    ")\n",
    "\n",
    "integer_template = workbook.add_format(\n",
    "    {\n",
    "        'num_format': '0',\n",
    "        'font_color': font_color,\n",
    "        'bg_color': background_color,\n",
    "        'border': 1\n",
    "    }\n",
    ")\n",
    "\n",
    "float_template = workbook.add_format(\n",
    "    {\n",
    "        'num_format': '0.0',\n",
    "        'font_color': font_color,\n",
    "        'bg_color': background_color,\n",
    "        'border': 1\n",
    "    }\n",
    ")\n",
    "\n",
    "percent_template = workbook.add_format(\n",
    "    {\n",
    "        'num_format': '0.0%',\n",
    "        'font_color': font_color,\n",
    "        'bg_color': background_color,\n",
    "        'border': 1\n",
    "    }\n",
    ")\n",
    "\n",
    "column_formats = {\n",
    "    'A': ['Ticker', string_template],\n",
    "    'B': ['Price', dollar_template],\n",
    "    'C': ['Number of Shares to Buy', integer_template],\n",
    "    'D': ['Price-to-Earnings Ratio', float_template],\n",
    "    'E': ['PE Percentile', percent_template],\n",
    "    'F': ['Price-to-Book Ratio', float_template],\n",
    "    'G': ['PB Percentile', percent_template],\n",
    "    'H': ['Price-to-Sales Ratio', float_template],\n",
    "    'I': ['PS Percentile', percent_template],\n",
    "    'J': ['EV/EBITDA', float_template],\n",
    "    'K': ['EV/EBITDA Percentile', percent_template],\n",
    "    'L': ['EV/GP', float_template],\n",
    "    'M': ['EV/GP Percentile', percent_template],\n",
    "    'N': ['RV Score', percent_template]\n",
    "}\n",
    "\n",
    "for column in column_formats.keys():\n",
    "    worksheet.set_column(f'{column}:{column}', 25, column_formats[column][1])\n",
    "    worksheet.write(f'{column}1', column_formats[column][0], column_formats[column][1])\n",
    "\n",
    "writer.close()"
   ]
  }
 ],
 "metadata": {
  "kernelspec": {
   "display_name": "Python 3 (ipykernel)",
   "language": "python",
   "name": "python3"
  },
  "language_info": {
   "codemirror_mode": {
    "name": "ipython",
    "version": 3
   },
   "file_extension": ".py",
   "mimetype": "text/x-python",
   "name": "python",
   "nbconvert_exporter": "python",
   "pygments_lexer": "ipython3",
   "version": "3.11.5"
  }
 },
 "nbformat": 4,
 "nbformat_minor": 5
}
