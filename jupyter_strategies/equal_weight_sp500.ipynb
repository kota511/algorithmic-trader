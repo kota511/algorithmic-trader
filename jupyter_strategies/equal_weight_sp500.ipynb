{
 "cells": [
  {
   "cell_type": "markdown",
   "id": "633b429a-e1fa-46ae-b2dc-5971655166e9",
   "metadata": {},
   "source": [
    "## Library Imports"
   ]
  },
  {
   "cell_type": "code",
   "execution_count": null,
   "id": "bf60b0c3-34cb-4516-82d5-04b10f60f9bc",
   "metadata": {},
   "outputs": [],
   "source": [
    "import numpy as np\n",
    "import pandas as pd\n",
    "import yfinance as yf\n",
    "import matplotlib.pyplot as plt\n",
    "import requests\n",
    "import xlsxwriter\n",
    "import math"
   ]
  },
  {
   "cell_type": "markdown",
   "id": "1d50e029-d7d8-493c-aa7a-3d70b9dacd75",
   "metadata": {},
   "source": [
    "## Stock Imports"
   ]
  },
  {
   "cell_type": "code",
   "execution_count": null,
   "id": "20cf9cc5-cf00-4bae-85e3-d5cdf4d3cd14",
   "metadata": {},
   "outputs": [],
   "source": [
    "symbols = pd.read_csv('../data/sp500_symbols.csv', skiprows=1, header=None)[0].tolist()"
   ]
  },
  {
   "cell_type": "markdown",
   "id": "8032c9ee-78c5-4d17-8711-5af48d65d1fe",
   "metadata": {},
   "source": [
    "## Download Historical Data"
   ]
  },
  {
   "cell_type": "code",
   "execution_count": null,
   "id": "ac2ee068-8dcc-4d04-be15-69e36c554ad7",
   "metadata": {
    "scrolled": true
   },
   "outputs": [],
   "source": [
    "all_data = {}\n",
    "for symbol in symbols:\n",
    "    try:\n",
    "        data = yf.download(symbol, period=\"1y\")['Adj Close']\n",
    "        if not data.empty:\n",
    "            all_data[symbol] = data\n",
    "    except Exception as e:\n",
    "        print(f\"Failed download for {symbol}: {e}\")\n",
    "\n",
    "all_data_df = pd.DataFrame(all_data)  # Convert the dictionary to a DataFrame\n",
    "all_data_df = all_data_df.dropna(axis=1, how='all')  # Drop columns with missing values"
   ]
  },
  {
   "cell_type": "markdown",
   "id": "1a9b9f89-6a86-4353-a4bf-1cd636aabf61",
   "metadata": {},
   "source": [
    "## Calculate Equal Weights For Each Stock"
   ]
  },
  {
   "cell_type": "code",
   "execution_count": null,
   "id": "eb21ba8c-e0eb-4f46-a386-c6a372e9eebe",
   "metadata": {},
   "outputs": [],
   "source": [
    "num_stocks = all_data_df.shape[1]\n",
    "equal_weights = 1 / num_stocks"
   ]
  },
  {
   "cell_type": "markdown",
   "id": "1a09fefa-8047-4712-9fc2-082853d4ae65",
   "metadata": {},
   "source": [
    "## Calculate Daily Returns For Each Stock"
   ]
  },
  {
   "cell_type": "code",
   "execution_count": null,
   "id": "e006bbfe-b4fd-4568-9b38-ada67c7e63c4",
   "metadata": {},
   "outputs": [],
   "source": [
    "daily_returns = all_data_df.pct_change().dropna()"
   ]
  },
  {
   "cell_type": "markdown",
   "id": "1e7ea0f1-a7e2-4e02-bd77-7e0e9c00ef02",
   "metadata": {},
   "source": [
    "## Fetching Stock Data using yfinance"
   ]
  },
  {
   "cell_type": "code",
   "execution_count": null,
   "id": "d98497b7-2182-4a5e-95e8-9227aadaf58f",
   "metadata": {},
   "outputs": [],
   "source": [
    "def get_stock_info(symbol):\n",
    "    stock = yf.Ticker(symbol)\n",
    "    info = stock.info\n",
    "    market_cap = info.get('marketCap', 'N/A')\n",
    "    price = info.get('currentPrice', 'N/A')\n",
    "    return market_cap, price\n",
    "\n",
    "data_list = [] # List to collect data\n",
    "\n",
    "valid_symbols = list(all_data.keys()) # Fetch data for each valid stock\n",
    "for symbol in valid_symbols:\n",
    "    try:\n",
    "        market_cap, price = get_stock_info(symbol)\n",
    "        data_list.append({'Ticker': symbol, 'Price': price, 'Market Capitalization': market_cap, 'Number Of Shares to Buy': 'N/A'})\n",
    "    except Exception as e:\n",
    "        print(f\"Failed to get info for {symbol}: {e}\")\n",
    "\n",
    "final_dataframe = pd.DataFrame(data_list)\n",
    "print(final_dataframe)"
   ]
  },
  {
   "cell_type": "markdown",
   "id": "54130abd-ea36-4381-9d0a-4142e9a42ff4",
   "metadata": {},
   "source": [
    "## Calculate Portfolio Returns"
   ]
  },
  {
   "cell_type": "code",
   "execution_count": null,
   "id": "ba1d0f05-49d1-41f5-a369-0bdb6686b89a",
   "metadata": {},
   "outputs": [],
   "source": [
    "weighted_returns = daily_returns * equal_weights\n",
    "portfolio_returns = weighted_returns.sum(axis=1)\n",
    "cumulative_returns = (1 + portfolio_returns).cumprod()"
   ]
  },
  {
   "cell_type": "markdown",
   "id": "e546bd48-4a9a-4c83-a362-8047d9019317",
   "metadata": {},
   "source": [
    "## Plot Cumulative Returns"
   ]
  },
  {
   "cell_type": "code",
   "execution_count": null,
   "id": "fb8e1637-dab3-4ddd-b211-c30dfcced268",
   "metadata": {},
   "outputs": [],
   "source": [
    "plt.figure(figsize=(10, 6))\n",
    "cumulative_returns.plot()\n",
    "plt.title('Equal-Weighted S&P 500 Portfolio Cumulative Returns')\n",
    "plt.xlabel('Date')\n",
    "plt.ylabel('Cumulative Returns')\n",
    "plt.show()"
   ]
  },
  {
   "cell_type": "markdown",
   "id": "cddc7bed-068e-4cf9-8ac5-3954490e42b7",
   "metadata": {},
   "source": [
    "## Input for Portfolio Size"
   ]
  },
  {
   "cell_type": "code",
   "execution_count": null,
   "id": "45c39e84-6a42-4998-b94e-a274a46a7b44",
   "metadata": {},
   "outputs": [],
   "source": [
    "while True:\n",
    "    portfolio_size = input(\"Enter the value of your portfolio:\")\n",
    "    try:\n",
    "        val = float(portfolio_size)\n",
    "        break\n",
    "    except ValueError:\n",
    "        print(\"That's not a number! \\nTry again:\")"
   ]
  },
  {
   "cell_type": "markdown",
   "id": "951589a9-d6c2-4ecc-81a2-8353accd026b",
   "metadata": {},
   "source": [
    "## Calculate Sharpe Ratio"
   ]
  },
  {
   "cell_type": "code",
   "execution_count": null,
   "id": "292f8ac2-cadd-47af-b8f7-67d7f96fbbb1",
   "metadata": {},
   "outputs": [],
   "source": [
    "risk_free_rate = 0.01  # Example risk-free rate\n",
    "excess_returns = portfolio_returns - (risk_free_rate / 252)\n",
    "sharpe_ratio = excess_returns.mean() / excess_returns.std() * np.sqrt(252)\n",
    "print(f\"Sharpe Ratio: {sharpe_ratio}\")"
   ]
  },
  {
   "attachments": {},
   "cell_type": "markdown",
   "id": "b0c7175f-c4c7-4268-b48d-03afd11cf677",
   "metadata": {},
   "source": [
    "## Calculate Drawdown"
   ]
  },
  {
   "cell_type": "code",
   "execution_count": null,
   "id": "30f2eae5-5177-4956-8539-cf0e49553232",
   "metadata": {},
   "outputs": [],
   "source": [
    "rolling_max = cumulative_returns.cummax()\n",
    "drawdown = (cumulative_returns - rolling_max) / rolling_max\n",
    "max_drawdown = drawdown.min()\n",
    "print(f\"Max Drawdown: {max_drawdown}\")"
   ]
  },
  {
   "cell_type": "markdown",
   "id": "1f4f6858-69f9-4666-bc76-c48580af7df3",
   "metadata": {},
   "source": [
    "## Input for Portfolio Size"
   ]
  },
  {
   "cell_type": "code",
   "execution_count": null,
   "id": "4da5d8d0-23bc-4a2f-b379-fffeff03bd64",
   "metadata": {},
   "outputs": [],
   "source": [
    "position_size = val / len(final_dataframe.index)\n",
    "for i in range(len(final_dataframe)):\n",
    "    final_dataframe.loc[i, 'Number Of Shares to Buy'] = math.floor(position_size / final_dataframe['Price'][i])\n",
    "# Filter out stocks which are not bought\n",
    "final_dataframe = final_dataframe[final_dataframe['Number Of Shares to Buy'] > 0]"
   ]
  },
  {
   "cell_type": "code",
   "execution_count": null,
   "id": "16b6a1b4-c161-42bd-bd5f-d9b6b8ecada4",
   "metadata": {},
   "outputs": [],
   "source": [
    "print(final_dataframe)"
   ]
  },
  {
   "cell_type": "markdown",
   "id": "ae2e3983-4d38-4d16-89fe-5691f21bd7a5",
   "metadata": {},
   "source": [
    "## Create Final DataFrame"
   ]
  },
  {
   "cell_type": "code",
   "execution_count": null,
   "id": "c6b0afc1-43c5-480c-8381-af88a5657cc1",
   "metadata": {},
   "outputs": [],
   "source": [
    "writer = pd.ExcelWriter('recommended_trades.xlsx', engine='xlsxwriter')\n",
    "final_dataframe.to_excel(writer, sheet_name='Recommended Trades', index=False)"
   ]
  },
  {
   "cell_type": "markdown",
   "id": "3821994e-88c9-4a18-ae23-faeb45538503",
   "metadata": {},
   "source": [
    "## Create and Apply Formats"
   ]
  },
  {
   "cell_type": "code",
   "execution_count": null,
   "id": "5153d6a2-a63a-4c7d-8a83-66bf2a4e61fc",
   "metadata": {},
   "outputs": [],
   "source": [
    "background_color = '#ffffff'\n",
    "font_color = '#000000'\n",
    "\n",
    "string_format = writer.book.add_format(\n",
    "    {'font_color': font_color, 'bg_color': background_color, 'border': 1}\n",
    ")\n",
    "\n",
    "dollar_format = writer.book.add_format(\n",
    "    {'num_format': '$0.00', 'font_color': font_color, 'bg_color': background_color, 'border': 1}\n",
    ")\n",
    "\n",
    "integer_format = writer.book.add_format(\n",
    "    {'num_format': '0', 'font_color': font_color, 'bg_color': background_color, 'border': 1}\n",
    ")\n",
    "\n",
    "column_formats = {\n",
    "    'A': ['Ticker', string_format],\n",
    "    'B': ['Price', dollar_format],\n",
    "    'C': ['Market Capitalization', dollar_format],\n",
    "    'D': ['Number Of Shares to Buy', integer_format]\n",
    "}\n",
    "\n",
    "for column in column_formats.keys():\n",
    "    writer.sheets['Recommended Trades'].set_column(f'{column}:{column}', 20, column_formats[column][1])\n",
    "    writer.sheets['Recommended Trades'].write(f'{column}1', column_formats[column][0], string_format)"
   ]
  },
  {
   "cell_type": "markdown",
   "id": "5762a747-fc14-492b-96de-735048d60522",
   "metadata": {},
   "source": [
    "## Save Excel Output"
   ]
  },
  {
   "cell_type": "code",
   "execution_count": null,
   "id": "81fe699e-27ba-43b6-9b0a-0121027a019b",
   "metadata": {},
   "outputs": [],
   "source": [
    "writer.close()"
   ]
  }
 ],
 "metadata": {
  "kernelspec": {
   "display_name": "Python 3 (ipykernel)",
   "language": "python",
   "name": "python3"
  },
  "language_info": {
   "codemirror_mode": {
    "name": "ipython",
    "version": 3
   },
   "file_extension": ".py",
   "mimetype": "text/x-python",
   "name": "python",
   "nbconvert_exporter": "python",
   "pygments_lexer": "ipython3",
   "version": "3.11.5"
  }
 },
 "nbformat": 4,
 "nbformat_minor": 5
}
